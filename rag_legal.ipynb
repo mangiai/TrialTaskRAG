{
 "cells": [
  {
   "cell_type": "markdown",
   "metadata": {},
   "source": [
    "**Imporing Libraries**"
   ]
  },
  {
   "cell_type": "code",
   "execution_count": 2,
   "metadata": {},
   "outputs": [],
   "source": [
    "import openai \n",
    "import langchain\n",
    "import pinecone\n",
    "from langchain_community.document_loaders import PyPDFDirectoryLoader\n",
    "from langchain.text_splitter import RecursiveCharacterTextSplitter\n",
    "\n"
   ]
  },
  {
   "cell_type": "markdown",
   "metadata": {},
   "source": [
    "**Loading Enviromental Variables**"
   ]
  },
  {
   "cell_type": "markdown",
   "metadata": {},
   "source": [
    "**Reading Documents Helper Function**"
   ]
  },
  {
   "cell_type": "code",
   "execution_count": 3,
   "metadata": {},
   "outputs": [],
   "source": [
    "def read_doc(directory):\n",
    "    file_loader= PyPDFDirectoryLoader(directory)\n",
    "    documents=file_loader.load()\n",
    "    return documents\n",
    "    "
   ]
  },
  {
   "cell_type": "code",
   "execution_count": 6,
   "metadata": {},
   "outputs": [
    {
     "data": {
      "text/plain": [
       "259"
      ]
     },
     "execution_count": 6,
     "metadata": {},
     "output_type": "execute_result"
    }
   ],
   "source": [
    "doc=read_doc('Law Dataset')\n",
    "len(doc)"
   ]
  },
  {
   "cell_type": "markdown",
   "metadata": {},
   "source": [
    "**Chunking Document**"
   ]
  },
  {
   "cell_type": "code",
   "execution_count": 7,
   "metadata": {},
   "outputs": [],
   "source": [
    "## Divide the docs into chunks\n",
    "### https://api.python.langchain.com/en/latest/text_splitter/langchain.text_splitter.RecursiveCharacterTextSplitter.html#\n",
    "def chunk_data(docs,chunk_size=800,chunk_overlap=50):\n",
    "    text_splitter=RecursiveCharacterTextSplitter(chunk_size=chunk_size,chunk_overlap=chunk_overlap)\n",
    "    doc=text_splitter.split_documents(docs)\n",
    "    return docs"
   ]
  },
  {
   "cell_type": "code",
   "execution_count": null,
   "metadata": {},
   "outputs": [
    {
     "data": {
      "text/plain": [
       "259"
      ]
     },
     "execution_count": 8,
     "metadata": {},
     "output_type": "execute_result"
    }
   ],
   "source": [
    "documents=chunk_data(docs=doc)\n",
    "len(documents)"
   ]
  },
  {
   "cell_type": "markdown",
   "metadata": {},
   "source": [
    "**Setting up *Pinecone* Index** "
   ]
  },
  {
   "cell_type": "code",
   "execution_count": 9,
   "metadata": {},
   "outputs": [],
   "source": [
    "\n",
    "import os\n",
    "import time\n",
    "import getpass\n",
    "from pinecone import Pinecone, ServerlessSpec\n",
    "\n",
    "if not os.getenv(\"PINECONE_API_KEY\"):\n",
    "    os.environ[\"PINECONE_API_KEY\"] = getpass.getpass(\"Enter your Pinecone API key: \")\n",
    "\n",
    "pinecone_api_key = os.environ.get(\"PINECONE_API_KEY\")\n",
    "\n",
    "pc = Pinecone(api_key=pinecone_api_key)"
   ]
  },
  {
   "cell_type": "code",
   "execution_count": 11,
   "metadata": {},
   "outputs": [
    {
     "data": {
      "text/plain": [
       "True"
      ]
     },
     "execution_count": 11,
     "metadata": {},
     "output_type": "execute_result"
    }
   ],
   "source": [
    "from dotenv import load_dotenv\n",
    "load_dotenv()"
   ]
  },
  {
   "cell_type": "code",
   "execution_count": 14,
   "metadata": {},
   "outputs": [],
   "source": [
    "import time\n",
    "\n",
    "index_name = \"raglegal\"  \n",
    "\n",
    "existing_indexes = [index_info[\"name\"] for index_info in pc.list_indexes()]\n",
    "\n",
    "if index_name not in existing_indexes:\n",
    "    pc.create_index(\n",
    "        name=index_name,\n",
    "        dimension=1536,\n",
    "        metric=\"cosine\",\n",
    "        spec=ServerlessSpec(cloud=\"aws\", region=os.getenv(\"PINECONE_ENV\")),\n",
    "    )\n",
    "    while not pc.describe_index(index_name).status[\"ready\"]:\n",
    "        time.sleep(1)\n",
    "\n",
    "index = pc.Index(index_name)"
   ]
  },
  {
   "cell_type": "code",
   "execution_count": 15,
   "metadata": {},
   "outputs": [],
   "source": [
    "import getpass\n",
    "\n",
    "os.environ[\"OPENAI_API_KEY\"]= os.getenv(\"OPENAI_API_KEY\")\n",
    "\n",
    "from langchain_openai import OpenAIEmbeddings\n",
    "\n",
    "embeddings = OpenAIEmbeddings(model=\"text-embedding-3-small\")"
   ]
  },
  {
   "cell_type": "code",
   "execution_count": 16,
   "metadata": {},
   "outputs": [],
   "source": [
    "from langchain_pinecone import PineconeVectorStore\n",
    "\n",
    "vector_store = PineconeVectorStore(index=index, embedding=embeddings)"
   ]
  },
  {
   "cell_type": "markdown",
   "metadata": {},
   "source": [
    "**Adding *Documents* to *Vector Store***"
   ]
  },
  {
   "cell_type": "code",
   "execution_count": 17,
   "metadata": {},
   "outputs": [
    {
     "data": {
      "text/plain": [
       "['b060eae1-dce9-4d93-b3a2-a6e2dc455b1b',\n",
       " '99298eed-8b72-4631-b775-7880d303a1fc',\n",
       " 'efb89a04-c6bf-44dc-871d-cac6a80b89e5',\n",
       " '8af60efd-dc66-4be5-82c2-c71f6498247f',\n",
       " '63302a04-1de4-430f-bcdf-3041dd1d564b',\n",
       " '99b35af1-3d8a-451a-b3bf-7509ecef963a',\n",
       " '29af8488-624a-45e4-a3e0-a36510fda66a',\n",
       " '7a580124-1eb2-4391-b70b-0bed545fac5a',\n",
       " '08a498df-b1a5-4e76-9fd2-9590c551c2ff',\n",
       " '5d43d33c-c316-4816-a918-765517f50184',\n",
       " 'bcbdaf11-c0ea-4fae-b1a8-d4730ea1c846',\n",
       " '7aa68a53-fac0-4b4f-823f-7d46550319fd',\n",
       " 'c1ceaa66-8bc9-4cc1-a695-d84e80169380',\n",
       " '6f86fce3-54bf-4a9a-9754-f2b9e897cc04',\n",
       " '26bbf17f-68b7-4408-a5dd-4452cb6e0596',\n",
       " 'efb70c0a-7570-443e-b031-c14800f401cf',\n",
       " 'bbae9d26-d580-48c7-a059-b1c552f7f916',\n",
       " '8b9f5738-83ac-4a18-9d10-5a76a5f1b99f',\n",
       " 'aff087f0-0b74-4abd-9981-2b6061cb4ca7',\n",
       " '3bb66bb9-5044-445e-b85b-a5caf33ab1e3',\n",
       " 'd5e5dd82-b547-436e-a1ec-9454ccba8245',\n",
       " '28649efa-c496-4bb8-8f73-6f17766c30a8',\n",
       " '5b56119f-1194-4312-8dc1-cbbd8b047d6d',\n",
       " '21bdc89b-5c42-4821-bce4-5ba14b07d69c',\n",
       " '9ce40ded-151a-4750-ad18-b1be90fb75c9',\n",
       " '536a3011-f32d-4648-b883-f9da47353f41',\n",
       " '6fe46e81-e8ed-4c29-8910-5bd2218c0882',\n",
       " '11df01d1-c59a-4818-a752-ff89ad1d2db4',\n",
       " '8bf46d09-d4ff-499f-9043-c630f50e86ab',\n",
       " 'c50888ba-94bf-40dc-a7fd-a67ea7bb03b7',\n",
       " '96cff25a-260f-47d9-a275-14f7455c75e6',\n",
       " '618f8a47-7f77-483f-be5e-afbbbcd38632',\n",
       " '65288bf4-9a91-4abd-8eab-33fd69e5c5e5',\n",
       " '87fe6563-cfe8-43cb-a901-8dd34cd37a91',\n",
       " '4969067d-5a8a-4648-a16c-b750ad4a5748',\n",
       " '964ba6d4-35d3-404a-bf0d-6825a33085fb',\n",
       " 'e7dd0fa4-72d9-4991-b688-3a5690d3391e',\n",
       " 'ac46157e-53c6-41d7-b1d1-6afafa0b4e77',\n",
       " '4d1c2645-c8af-48d3-a2bc-4b1d034878b3',\n",
       " 'fcc62797-2390-466e-b6ae-bcb1d74558ef',\n",
       " 'c6dd9d3b-5c8f-4c17-a13b-3aadc9cd1813',\n",
       " 'fe71a1b9-c92e-41c9-b7e9-96ef43f2a0fe',\n",
       " 'b27f1d89-5b59-4bfe-8538-a36c4f175384',\n",
       " '1d11ddb3-54a6-479b-9d03-f251031a25a1',\n",
       " 'a8f25f3f-a72d-474d-891e-bb18ed167d8c',\n",
       " '76234cd5-b264-48d0-acb7-56478eb95d17',\n",
       " 'a4d243ed-637c-4450-a0da-84f65d1757a8',\n",
       " 'aded2fc3-471c-4ae0-8a6b-8c6dac09d61c',\n",
       " 'd28046f5-bdbc-40b5-98fd-d305f0ddbef6',\n",
       " 'ab488c94-b9d1-421b-84e6-bebebc21ff9b',\n",
       " 'fe2ce761-5128-4105-8b74-cff86b40f016',\n",
       " '10f92680-a45e-458a-a661-3c34a006b8ed',\n",
       " '041743c5-5e34-4ad5-a3bd-971bbf8b804a',\n",
       " '7e79c409-4c05-47ae-be2a-186dd39360d6',\n",
       " '30bd21ef-6f53-444f-a6a9-5dffe9052961',\n",
       " 'de503c4f-04b0-470d-ba2b-30fb9ca3cb2f',\n",
       " '960350ba-71ac-4293-a28f-28e5a90a34ac',\n",
       " '282f0b47-bf54-4155-8b66-1c348b64302d',\n",
       " '0b178c36-f9eb-4f5f-8a71-dab90601190f',\n",
       " 'f29dd63f-fb25-4220-b97e-2844f210a510',\n",
       " '3da0b82d-eb1b-4f44-9d6f-e28d8be80bfc',\n",
       " '79eed829-c68f-47e1-a64a-a894520da740',\n",
       " '94c507f2-14c2-45d7-97a2-5c9681fe6e86',\n",
       " '4abaedb5-e47a-432c-9698-6d43f42f2ed6',\n",
       " 'c6f9bb43-8da4-40bd-9cc0-ec1f15d79753',\n",
       " 'a553ed0b-ea73-48b7-b6f6-92d38ee0f579',\n",
       " 'ec87ca24-3c9e-43b8-b51d-4c6f30921a25',\n",
       " 'fb93e734-0b87-4dab-80db-6eec65a45c7c',\n",
       " '0ca56222-9c2e-45c4-aec8-1a7fb51dd134',\n",
       " '455de35c-c65c-4f3d-a897-d1491c1dd858',\n",
       " '4c447a00-d73f-4b3c-a249-9ae81b430b48',\n",
       " '2fa7b14b-f0fb-40d3-8148-275cdcfdb33e',\n",
       " 'e82c4482-184f-4d0b-8962-ecc6ff76393c',\n",
       " '59c1aaca-f1f1-497e-86b2-005ac6eaee23',\n",
       " 'e1477969-d633-46e9-a27d-24b9c6b2c64d',\n",
       " 'b7649e62-dd0f-4be2-b262-9a9c27647808',\n",
       " 'ee9447d0-14e6-4453-8a72-3289a7dd12de',\n",
       " '765e9e2b-8742-427a-accb-2d00fe931172',\n",
       " 'bb20f68f-56f7-4dd6-941c-cc675667c487',\n",
       " '4e212527-4b47-4929-8804-9e2f180e5ee4',\n",
       " '645bf343-005e-46f5-ad24-323afdabc37f',\n",
       " '2c2f50c5-b8be-4eb1-97c8-99004cc9fa5a',\n",
       " '7901b950-2fd4-4349-b4c1-358926df7f27',\n",
       " '006a90a0-e611-4512-9173-678a2eb5b780',\n",
       " '0bd63b89-4ff8-4444-9478-8cd44d442c59',\n",
       " 'f873bf0b-72ba-48b9-ab53-9364c41af5f0',\n",
       " 'e60333ab-0f51-48fb-a7e7-0c79dadc125c',\n",
       " 'ffaf82c6-3040-4434-ab70-e3c6c1c9ec3d',\n",
       " 'ead78c50-60ec-4c57-9476-4a5c1e94d9c2',\n",
       " '11f482cd-0d65-4149-963e-db42a2e05f56',\n",
       " '7e4bffaf-8561-40fe-80fb-8bfb47721121',\n",
       " 'e68773dd-862b-4c80-9f46-e88ab239a0e8',\n",
       " '8213cdca-5caf-4980-b8e0-48bfc998edb0',\n",
       " '74c48ff8-940f-4aab-84a9-9451a503039e',\n",
       " '7be5e415-60c2-49d2-8487-cd86721476ee',\n",
       " 'f75c84b9-6941-49d2-9c7e-a8a913a960d3',\n",
       " 'a5bdfb49-7caa-4b5a-94b3-7b60beea6d01',\n",
       " '27d51354-208c-4adc-ad7a-3f6f8501a84d',\n",
       " '32bdeb0e-fc4d-4c88-959d-5aad3672336b',\n",
       " '9c14e825-ddc2-4adf-8fe2-9142da777e9c',\n",
       " '8e0d92b5-618f-4440-9c92-fb6abc5c1929',\n",
       " 'b76cc8bd-a76d-40e8-b761-7f55047e1abf',\n",
       " 'b180b81c-9e0e-41cd-81b8-df320d7f7937',\n",
       " 'e20ec81b-9bc7-43cf-8a4e-23066686c4ad',\n",
       " '22d841e3-bcda-4000-aa9f-dce9531f9717',\n",
       " '12eab727-c3d2-4643-9151-80448652903e',\n",
       " '016d1bb1-74d8-4044-9849-bb47b6ff8a64',\n",
       " '5a2e9909-f4b8-437d-9453-e0b43caca2e9',\n",
       " '58c17356-3b40-4449-8ab8-76ac47af6495',\n",
       " '5423a120-db0e-4260-b9f0-704fd75a0fde',\n",
       " 'ece6c8fd-816d-4de7-ab8a-bdf2d5173e8d',\n",
       " '6f702eb0-794f-4316-8d39-84532b417c2d',\n",
       " '83cee238-1d43-4a1f-b0e4-209733cf309e',\n",
       " 'f7f819a3-3064-40f6-98eb-39616a59cd9c',\n",
       " '9d6aacc1-fa3f-4bb2-be69-893d91f88c39',\n",
       " '73fad68f-987b-4a5b-9674-d1a8d74d17d8',\n",
       " 'ba7f399c-3486-48ba-961e-7ba159e747a7',\n",
       " 'ebe5de11-612d-4d99-bb97-a50eb5a46a25',\n",
       " '48536891-9ed4-42d7-95f4-55a3c2378232',\n",
       " 'dd5dd099-aae6-4664-882a-7fdf0b1406fb',\n",
       " 'ff32c4aa-a03d-44a7-9cc6-820a98d37a61',\n",
       " 'aca85041-629e-498a-8899-aa9d09498de0',\n",
       " 'fdfcb79c-effd-4020-8889-89a9b67a1b8e',\n",
       " 'ddc60267-1015-4a69-84ea-c9ec4d342c2c',\n",
       " '623e0076-fbf7-4141-b73e-8a7b44ef4a74',\n",
       " 'dd752226-8156-44eb-aecc-9bd9f91e71a4',\n",
       " '380ad230-237a-4077-8729-cc21f819bdc2',\n",
       " '67a1d8dd-25ae-48a1-8408-5488efc68cd5',\n",
       " '946a41bb-cd42-4a44-b14d-09508a27bfb5',\n",
       " 'f4fde20b-f67d-4482-9231-589f9520210d',\n",
       " 'a8c1acc4-f714-4fb0-bc6f-ba97213c8e16',\n",
       " '865432ab-9ef2-41bd-9d9e-925c1156782f',\n",
       " '112ccf2d-7742-4e04-ae5f-d2bcb4c7f52b',\n",
       " '62af148f-6914-46c8-a849-996424618fc4',\n",
       " '347015f3-1b0e-41d3-9ae1-2dd3a7415d4b',\n",
       " '908e190b-d0ec-49bc-a127-1c75efe6f714',\n",
       " '73c51a69-5d59-4a41-9dc1-7933eaa1afbe',\n",
       " 'e448f803-903b-4e34-82a6-17a0c6381e83',\n",
       " '071de30a-ee0f-429b-9234-63fe0d6aaf86',\n",
       " 'e3160b05-399a-47a2-b3f5-78dc8daa13ae',\n",
       " 'c5ba71ca-4bd7-4ba4-9e15-b3e41537b2c0',\n",
       " '0803f710-5637-4a4a-9090-6ab2cca3ee34',\n",
       " 'c7b45ce6-b06d-45ea-a28c-fc5731ba9ba2',\n",
       " '8d09c829-3a5d-4459-943f-d69159703ff4',\n",
       " '1dcdb26a-80b5-4e7c-a73d-eb9d43b35af6',\n",
       " 'c0e9bbbc-2087-4e28-bdab-23e6b918c4b8',\n",
       " 'a7021de4-c83d-43db-b8d4-63d165d65ccc',\n",
       " 'fc1a12b5-4d9e-4483-89d6-9d86b8bf357b',\n",
       " 'ee893079-c056-475c-ad2f-9dccbfd0f0f2',\n",
       " 'c45d5af0-a5d4-411a-ab86-d65495b97b0f',\n",
       " '561735af-5d9c-4f24-86a0-840639602b3e',\n",
       " '94b709f3-410f-449c-bb06-7f1fc5a7ea92',\n",
       " '9a82e61b-5378-416c-85f1-ec11129e4660',\n",
       " '92d96173-30ac-473b-af2c-3bf8c666e067',\n",
       " '1df1f4d7-90b9-43ab-8f4f-00cf238af2ec',\n",
       " '942b57e9-5cef-404f-8e9c-5988561dcd1b',\n",
       " '13ec03ac-c76d-4bcb-8f18-154d539de65d',\n",
       " 'dd22d67a-d22f-4873-a087-16517b785574',\n",
       " '37c37edb-d94b-48c8-a25d-624bffceb955',\n",
       " '91e50ae0-360c-484d-9d77-2d1685ab3edc',\n",
       " 'e9d73f23-2276-4059-a6fa-09fea06b9aec',\n",
       " 'dc15ee05-07af-4bfa-b8c1-42abd1eee3bc',\n",
       " 'e0069086-894c-41b4-ac58-b7a01aeb2845',\n",
       " '7c9d3a8b-9bde-4df3-988f-09301c8347f5',\n",
       " '5544892f-ce6f-4159-afe4-633ae2e3e278',\n",
       " '91ee972c-a2f6-4786-a4aa-20bc4415e4da',\n",
       " 'fb54cce1-0809-431c-ad16-963739bb4b3d',\n",
       " 'be13c559-6e01-4fc6-9bf1-0621ec533527',\n",
       " 'a855d5ae-b202-471c-ab9a-2c591ae3e7c8',\n",
       " 'd209651c-19e7-4902-a0a0-6b1b092fb36d',\n",
       " '47a0f78c-a1d0-4a84-aab5-eb9e6fabc976',\n",
       " 'a24ea948-3760-4b66-b055-96e10f162899',\n",
       " 'dfe9d849-1b9a-4d7f-a182-12d7ce50c733',\n",
       " '3974cdb1-38e3-4f16-a4ef-160ce1d4e0f9',\n",
       " 'bd886653-41c3-4ae1-b766-06d5976eda72',\n",
       " '91c2a42f-6eae-4793-912c-5943097e75f9',\n",
       " 'b3b8ec40-086c-47a5-b13d-65f463922fa4',\n",
       " '87d0aead-6008-4cb9-b6ce-ffe0bfb08dc0',\n",
       " '6785664c-e45b-4cf6-9a45-d19d305ea578',\n",
       " '157361e8-aa85-4a89-88f2-ca9064985a00',\n",
       " '7401abc9-e624-46db-adf8-4adb9e22e0f7',\n",
       " '44b43fac-6e2c-4b5c-8c6e-c99cbf0a6fa8',\n",
       " 'b21ef3f6-5ad3-4ebc-b06f-61e0453886f1',\n",
       " '366d7e72-df33-4af0-8418-95ae09ccc647',\n",
       " '40947726-4896-4a9c-a692-578a22a79249',\n",
       " 'b79debf7-e094-4a02-95ac-954142e79ed7',\n",
       " 'cc3e8780-0ae7-460f-890e-d21013e82160',\n",
       " 'f45e17be-aa36-4a60-af8a-b7f667372dda',\n",
       " '884d8036-3c8b-4b1f-85a4-0d5c9dac94d7',\n",
       " 'd3d0ed3e-1c69-492f-9aac-fc75c31d2d92',\n",
       " 'f459107b-ae6b-4b50-9f4a-1d4fcefe9810',\n",
       " '204eda90-7ece-42c0-950f-e9d910082a7c',\n",
       " '7e27ca6f-18bd-4a4a-9195-c0377d0205fc',\n",
       " 'c7b970c0-1f7a-42db-8a30-664e0ab585c1',\n",
       " '9fc4eb31-9640-4873-916d-3dfea00990ab',\n",
       " 'c163a51d-a271-4a94-bc66-e36775bced67',\n",
       " '38e4a3f6-2d80-4471-951e-742051238229',\n",
       " 'df3d8cb8-1d51-4ec3-9339-afbf0f32b051',\n",
       " 'bf2f1b4c-e26a-433e-9f6c-f588555ead73',\n",
       " '2034352a-d010-4abb-987a-27bd3b3308b1',\n",
       " 'c7fa079c-9a69-4604-966a-3c906bf366ce',\n",
       " '62929a3b-bfbd-49f0-9df4-83d4c8a5a1e0',\n",
       " 'f05457bf-3a3c-41df-805f-75027d67e5b6',\n",
       " '8d951e11-8c3f-4ddd-bf10-8844b7f1c0c6',\n",
       " '7369c3e2-d0a8-4187-9f64-f65489d8007a',\n",
       " 'effe17db-f5ad-4df5-aac3-756076737c28',\n",
       " '1e7e0af7-af27-4d69-bab5-52122838713e',\n",
       " '604dbb8e-8de7-4350-9eee-bb047954a9df',\n",
       " 'c356ea67-81e6-4660-8bee-22f5746f3c19',\n",
       " 'f6107a3a-0c7c-44c9-a1e2-2b820194faa3',\n",
       " 'bcc1f566-70be-40f9-b2a1-b79601040fc3',\n",
       " '5296f72e-3a0a-443b-981e-b720a0ac9fc2',\n",
       " '187ed1a1-1f46-471a-97f5-69e5936ad769',\n",
       " '6e7286db-2f3a-4cf7-942d-517fa263d231',\n",
       " '03822307-bfc5-4932-b6c8-29bcbcdb21e7',\n",
       " 'f1ede099-7948-4d53-bed8-97e46fb427bf',\n",
       " '3f3ab63d-9b2a-4afa-bb8c-ce78d0aea526',\n",
       " '3652f155-cace-44a1-ac2e-fc647991a8ad',\n",
       " 'bfd394e0-9b29-45b0-906c-7887dc5c620c',\n",
       " 'bdf679df-342e-406f-9f21-15f620b2e7ed',\n",
       " 'ea2bae42-91a9-4b93-a46b-7a62fa0f9b98',\n",
       " 'e9d7ece3-ec21-4485-880b-05108bbfcc51',\n",
       " 'c9770a6c-3483-4587-a23d-0e0a34a6f00a',\n",
       " '19697fcf-d2b8-4000-a691-25379a5db311',\n",
       " '074de796-b7e0-48da-b396-2f7a9dbd587e',\n",
       " '34fd0c4d-2ae5-4b75-b171-f40ace9b79eb',\n",
       " '22e95fd0-eec7-42ab-aa57-ea13e1247fea',\n",
       " 'bbb86b9a-03cd-49f1-bcaf-f0a704758bbc',\n",
       " 'f621f875-8b07-4977-b774-075b9286691c',\n",
       " '2a2c7498-57cc-49ea-85a5-2aef729d4e19',\n",
       " 'c1343f9c-4b66-4766-a9de-b84df8ed6946',\n",
       " '2692d319-2fe0-422b-a799-a0004089ac1c',\n",
       " '7292c666-c063-424f-9fee-718477d3fb54',\n",
       " 'cade4500-7ed1-4fc3-96c5-44202c88cb2c',\n",
       " '87f1dfc5-1292-472c-b8cc-78e1d7e5f445',\n",
       " '9c59fabb-6dc7-42a5-aa52-153fea158c6d',\n",
       " 'd20e9c72-fe7b-4fcd-bf9b-6b9a2d071fa9',\n",
       " 'c93ba609-0371-48d9-808f-0c4554a3517e',\n",
       " 'e8e1b92d-c802-4da1-96bb-6df3ba76add4',\n",
       " '973bdb21-f022-45ca-b01f-a83ab5b9d156',\n",
       " '3f622f53-e73d-4409-8298-21d11fbdcc19',\n",
       " '12d67b54-c007-4d47-aaae-42104ff706b1',\n",
       " '00ad70a4-eedd-4356-b63a-a4900aee7d01',\n",
       " 'abb7c24b-2515-4cb4-acf6-ba0d4e4351ef',\n",
       " '5c30fa00-a391-41c0-810a-8a1c4e2062ea',\n",
       " 'aa968aba-20fe-4ccc-90d3-e658671adc95',\n",
       " '50f43cb5-7c06-45c4-a12d-564ca5c2521e',\n",
       " 'ace453ac-0272-40f3-ac7a-0482433115c0',\n",
       " '49e50389-051f-4312-88ce-a4efb7e172f4',\n",
       " '7dcf3a29-7334-43d9-abd4-b4853eea4e43',\n",
       " '8731e174-6e04-458f-89c3-6d5bea085ab6',\n",
       " 'f522ad9d-4cf9-4290-870d-a403dac5130a',\n",
       " 'fa374053-a02e-4b5c-b841-031e0de16ba5',\n",
       " '09569adb-402b-4053-9574-5f26c33179d9',\n",
       " '58a46683-3c32-40ee-8693-86f12d97a47e',\n",
       " '528d3510-3ebb-41db-8099-e2b7245ad541',\n",
       " '132f115b-ad45-4bb8-9e12-41c03676fda4',\n",
       " '4331bd77-3458-4404-8e0c-22656b68566a',\n",
       " '278f9861-dee3-44ab-bd69-96a8b99e624c']"
      ]
     },
     "execution_count": 17,
     "metadata": {},
     "output_type": "execute_result"
    }
   ],
   "source": [
    "from uuid import uuid4\n",
    "uuids = [str(uuid4()) for _ in range(len(documents))]\n",
    "vector_store.add_documents(documents=documents, ids=uuids)"
   ]
  },
  {
   "cell_type": "markdown",
   "metadata": {},
   "source": [
    "**Setting Up *Vector Store Retriever***"
   ]
  },
  {
   "cell_type": "code",
   "execution_count": 18,
   "metadata": {},
   "outputs": [
    {
     "data": {
      "text/plain": [
       "[Document(id='ec87ca24-3c9e-43b8-b51d-4c6f30921a25', metadata={'page': 2.0, 'source': 'Law Dataset\\\\THE ISLAMABAD UNIVERSITY OF HEALTH SCIENCES AND.pdf'}, page_content=' \\n  \\nPage 3 of 37 \\n  \\nTHE ISLAMABAD UNIVERSITY OF HEALTH SCIENCES AND \\nEMERGING TECHNOLOGIES, ISLAMABAD ACT, 2024  \\n \\n[4th April, 2024]  \\nACT NO. I OF 2024  \\n \\nAn Act for the establishment of Islamabad University of Health Sciences and Emerging  \\nTechnologies  \\n  \\n  WHEREAS it is expedient to establish Islamabad University of Health Sciences and  \\nEmerging Technologies (IUHT) at Islamabad for the purposes appearing hereinafter:  \\n \\nCHAPTER -I \\nPRELIMINARY  \\n \\n   1.  Short title and commencement .―(1) This Act may be called the Islamabad University \\nof Health Sciences and Emerging Technologies, Islamabad Act, 2024.  \\n \\n (2)  It shall extend to the Islamabad Capital Territory.  \\n \\n (3)  It shall come into force at once.  \\n \\n 2.  Definitions .―In this Act, unless there is anything repugn ant in the subject or context: ― \\n \\n(a)  “Academic Council”   means the Academic Connell of the University;  \\n \\n(b)   “Authority”  means any of the Authorities of the University specified in \\nsection 24;  \\n \\n(c)  “Board”  means the Board of Governors of the University;  \\n \\n(d)  “Chancellor”  means the Chancellor of the University;  \\n \\n(e)  “Chairperson”   means the head of a Teaching department of the University;  \\n \\n(f)  “Commission”  means the Higher Education Commission set up under the \\nHigher Education Commission Ord inance, 2002  (LIII of 2002);  \\n \\n   (g)  “Company”  means “ABLE LEARNING (PRIVATE) LIMITED” , \\nregistered  under the companies Act, 2017 (XIX of 2017);  \\n \\n(h)  “Constituent Unit”  means an institute or college, by whatever name \\ndescribed, maintained, and administered by the University;  \\n \\n(i)  “Dean” means the head of a Faculty of the University;  \\n \\n(j)  “Department”  means a teaching department of the University;  \\n ')]"
      ]
     },
     "execution_count": 18,
     "metadata": {},
     "output_type": "execute_result"
    }
   ],
   "source": [
    "retriever = vector_store.as_retriever(\n",
    "    search_type=\"similarity_score_threshold\",\n",
    "    search_kwargs={\"k\": 1, \"score_threshold\": 0.5},\n",
    ")\n",
    "retriever.invoke(\"Breifly describe the Islamabad University Act\", filter={\"source\": \"news\"})"
   ]
  },
  {
   "cell_type": "markdown",
   "metadata": {},
   "source": [
    "**Setting up *Tavirly Tool* for additional context retreival and websearching.**"
   ]
  },
  {
   "cell_type": "code",
   "execution_count": 22,
   "metadata": {},
   "outputs": [],
   "source": [
    "from langchain_community.tools import TavilySearchResults\n",
    "\n",
    "# Initialize the TavilySearchResults tool with custom settings\n",
    "tavirly_search_tool = TavilySearchResults(\n",
    "    max_results=5,  # Limit the number of search results\n",
    "    search_depth=\"advanced\",  # Use advanced search depth\n",
    "    include_answer=True,  # Include an answer to the query in the results\n",
    "    include_raw_content=True,  # Include the raw content from the search results\n",
    "    include_images=True,  # Include image results\n",
    "    name=\"Tavily_search\",  # Custom name for the tool\n",
    "    description=\"This tool searches the web using Tavirly and returns up to 5 results with advanced search depth, including raw content and images.\"  # Custom description\n",
    ")\n"
   ]
  },
  {
   "cell_type": "code",
   "execution_count": 23,
   "metadata": {},
   "outputs": [
    {
     "name": "stderr",
     "output_type": "stream",
     "text": [
      "C:\\Users\\Owner\\AppData\\Local\\Temp\\ipykernel_10124\\485754501.py:1: LangChainBetaWarning: This API is in beta and may change in the future.\n",
      "  tools = [tavirly_search_tool.as_tool()]\n"
     ]
    }
   ],
   "source": [
    "tools = [tavirly_search_tool.as_tool()]"
   ]
  },
  {
   "cell_type": "code",
   "execution_count": 19,
   "metadata": {},
   "outputs": [],
   "source": [
    "import getpass\n",
    "import os\n",
    "\n",
    "if \"GROQ_API_KEY\" not in os.environ:\n",
    "    os.environ[\"GROQ_API_KEY\"] = getpass.getpass(\"Enter your Groq API key: \")"
   ]
  },
  {
   "cell_type": "markdown",
   "metadata": {},
   "source": [
    "**Setup Large Language Model**"
   ]
  },
  {
   "cell_type": "code",
   "execution_count": 24,
   "metadata": {},
   "outputs": [],
   "source": [
    "from langchain_groq import ChatGroq\n",
    "\n",
    "llm = ChatGroq(\n",
    "    name=\"chat_groq\",\n",
    "    model=\"llama3-groq-70b-8192-tool-use-preview\",\n",
    "    temperature=0,\n",
    "    max_tokens=8000,  # You can adjust this as needed\n",
    "    timeout=60,  # Set appropriate timeout based on complexity\n",
    "    max_retries=2,\n",
    "    # other params...\n",
    ")\n"
   ]
  },
  {
   "cell_type": "markdown",
   "metadata": {},
   "source": [
    "**Add Prompt Template**"
   ]
  },
  {
   "cell_type": "code",
   "execution_count": 26,
   "metadata": {},
   "outputs": [],
   "source": [
    "from langchain.prompts import PromptTemplate\n",
    "\n",
    "prompt_template = \"\"\"\n",
    "You are an advanced AI legal assistant with access to multiple tools and a vector database of legal documents. Your task is to:\n",
    "\n",
    "1. **Understand the user's legal query.**\n",
    "2. **Retrieve relevant legal documents from the vector database if needed.**\n",
    "3. **Use the appropriate tool to analyze, compare, or explain legal documents based on the context.**\n",
    "4. **Synthesize the results and generate a final response that combines the vector store results and tool outputs.**\n",
    "\n",
    "**Steps**:\n",
    "\n",
    "- If the query involves **specific legal information or content search**, query the vector database for related documents.\n",
    "- If the query involves **comparing legal documents**, retrieve the relevant documents and perform a detailed comparison highlighting similarities and differences.\n",
    "- If the query requires **explaining legal provisions or clauses**, interpret the relevant sections and provide a clear, concise explanation.\n",
    "- If the query involves **recent legal developments or case law**, use the Legal Research tool to find up-to-date information.\n",
    "\n",
    "**Remember** to combine all relevant information in a cohesive and professional response, ensuring accuracy and clarity.\n",
    "\n",
    "**Examples**:\n",
    "\n",
    "- **Query**: \"Compare the data protection regulations between Country A and Country B.\"\n",
    "  - **Action**: Retrieve the relevant legal texts from the vector database, then analyze and compare the key differences and similarities in data protection laws between the two countries.\n",
    "- **Query**: \"Explain the implications of the new Cybersecurity Act.\"\n",
    "  - **Action**: Retrieve the Act from the vector database and provide a summary explaining its main provisions and potential impact.\n",
    "- **Query**: \"What are the recent changes in employment law affecting overtime pay?\"\n",
    "  - **Action**: Use the Legal Research tool to find recent amendments or case law related to employment and overtime pay, then summarize the findings.\n",
    "\n",
    "Now, proceed with the user's query.\n",
    "\"\"\"\n"
   ]
  },
  {
   "cell_type": "code",
   "execution_count": null,
   "metadata": {},
   "outputs": [],
   "source": []
  },
  {
   "cell_type": "markdown",
   "metadata": {},
   "source": [
    "**Create ReAct Agenet**"
   ]
  },
  {
   "cell_type": "code",
   "execution_count": 28,
   "metadata": {},
   "outputs": [
    {
     "name": "stderr",
     "output_type": "stream",
     "text": [
      "C:\\Users\\Owner\\AppData\\Local\\Temp\\ipykernel_10124\\964659187.py:4: LangChainDeprecationWarning: The function `initialize_agent` was deprecated in LangChain 0.1.0 and will be removed in 1.0. Use :meth:`~Use new agent constructor methods like create_react_agent, create_json_agent, create_structured_chat_agent, etc.` instead.\n",
      "  agent = initialize_agent(\n"
     ]
    }
   ],
   "source": [
    "\n",
    "from langchain.agents import AgentType, initialize_agent\n",
    "from langchain_openai import ChatOpenAI\n",
    "\n",
    "agent = initialize_agent(\n",
    "    tools=tools,\n",
    "    llm=llm,\n",
    "    prompt=prompt_template,\n",
    "    vector_store=vector_store,\n",
    "    agent=AgentType.OPENAI_FUNCTIONS,\n",
    "    verbose=True,\n",
    "    handle_parsing_errors=True,\n",
    ")"
   ]
  },
  {
   "cell_type": "code",
   "execution_count": 29,
   "metadata": {},
   "outputs": [
    {
     "name": "stderr",
     "output_type": "stream",
     "text": [
      "C:\\Users\\Owner\\AppData\\Local\\Temp\\ipykernel_10124\\179600871.py:5: LangChainDeprecationWarning: The method `Chain.run` was deprecated in langchain 0.1.0 and will be removed in 1.0. Use :meth:`~invoke` instead.\n",
      "  response = agent.run(query)\n"
     ]
    },
    {
     "name": "stdout",
     "output_type": "stream",
     "text": [
      "\n",
      "\n",
      "\u001b[1m> Entering new AgentExecutor chain...\u001b[0m\n",
      "\u001b[32;1m\u001b[1;3mThe Islamabad University Act, also known as the Quaid-i-Azam University Act, was enacted in 1967. It established Quaid-i-Azam University, which is one of the top universities in Pakistan. The act aimed to provide for the establishment of a university in the capital city of Islamabad, with the goal of promoting higher education and research in various fields. The university was named after the founder of Pakistan, Quaid-i-Azam Muhammad Ali Jinnah.\u001b[0m\n",
      "\n",
      "\u001b[1m> Finished chain.\u001b[0m\n",
      "Agent Response:\n",
      "The Islamabad University Act, also known as the Quaid-i-Azam University Act, was enacted in 1967. It established Quaid-i-Azam University, which is one of the top universities in Pakistan. The act aimed to provide for the establishment of a university in the capital city of Islamabad, with the goal of promoting higher education and research in various fields. The university was named after the founder of Pakistan, Quaid-i-Azam Muhammad Ali Jinnah.\n"
     ]
    }
   ],
   "source": [
    "# Example query\n",
    "query = \"Breifly Describe the Islamabad University Act?\"\n",
    "\n",
    "# Running the agent with the initialized prompt and query\n",
    "response = agent.run(query)\n",
    "\n",
    "# Output the response\n",
    "print(\"Agent Response:\")\n",
    "print(response)\n"
   ]
  },
  {
   "cell_type": "markdown",
   "metadata": {},
   "source": [
    "**Lock and Freeze Requirments for Export**"
   ]
  },
  {
   "cell_type": "code",
   "execution_count": 30,
   "metadata": {},
   "outputs": [
    {
     "name": "stdout",
     "output_type": "stream",
     "text": [
      "Note: you may need to restart the kernel to use updated packages.\n"
     ]
    }
   ],
   "source": [
    "%pip freeze > requirement.txt"
   ]
  },
  {
   "cell_type": "code",
   "execution_count": null,
   "metadata": {},
   "outputs": [],
   "source": []
  }
 ],
 "metadata": {
  "kernelspec": {
   "display_name": "myenv",
   "language": "python",
   "name": "python3"
  },
  "language_info": {
   "codemirror_mode": {
    "name": "ipython",
    "version": 3
   },
   "file_extension": ".py",
   "mimetype": "text/x-python",
   "name": "python",
   "nbconvert_exporter": "python",
   "pygments_lexer": "ipython3",
   "version": "3.11.9"
  }
 },
 "nbformat": 4,
 "nbformat_minor": 2
}
